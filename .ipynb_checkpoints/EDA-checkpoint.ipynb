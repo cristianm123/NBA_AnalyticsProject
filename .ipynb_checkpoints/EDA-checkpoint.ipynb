{
 "cells": [
  {
   "cell_type": "markdown",
   "metadata": {},
   "source": [
    "# Proyecto de curso de Analitica de Datos \n",
    "Se propone el analisis del dataset que contiene las estadísticas avanzadas de rendimiento de jugadores de\n",
    "baloncesto en la NBA durante la temporada 2017-2018, así como los salarios de los mismos."
   ]
  },
  {
   "cell_type": "markdown",
   "metadata": {},
   "source": [
    "# Entendimiento de los datos"
   ]
  },
  {
   "cell_type": "markdown",
   "metadata": {},
   "source": [
    "Importamos las librerías que vamos a utilizar"
   ]
  },
  {
   "cell_type": "code",
   "execution_count": 19,
   "metadata": {
    "scrolled": true,
    "tags": []
   },
   "outputs": [],
   "source": [
    "import numpy as np\n",
    "import pandas as pd\n",
    "from matplotlib import pyplot as plt\n",
    "import seaborn as sb\n",
    "pd.set_option('display.float_format', lambda x: '%.2f' % x)"
   ]
  },
  {
   "cell_type": "markdown",
   "metadata": {},
   "source": [
    "Cargamos los datos con los que vamos a trabajar"
   ]
  },
  {
   "cell_type": "code",
   "execution_count": 20,
   "metadata": {},
   "outputs": [],
   "source": [
    "salaries = pd.read_csv(\"2017-18_NBA_salary.csv\")\n"
   ]
  },
  {
   "cell_type": "markdown",
   "metadata": {},
   "source": [
    "Vemos los primeros registros del dataset"
   ]
  },
  {
   "cell_type": "code",
   "execution_count": 21,
   "metadata": {},
   "outputs": [
    {
     "name": "stdout",
     "output_type": "stream",
     "text": [
      "                 Player    Salary NBA_Country  NBA_DraftNumber  Age   Tm   G  \\\n",
      "0               Zhou Qi    815615       China               43   22  HOU  16   \n",
      "1         Zaza Pachulia   3477600     Georgia               42   33  GSW  66   \n",
      "2         Zach Randolph  12307692         USA               19   36  SAC  59   \n",
      "3           Zach LaVine   3202217         USA               13   22  CHI  24   \n",
      "4          Zach Collins   3057240         USA               10   20  POR  62   \n",
      "5          Yogi Ferrell   1312611         USA               62   24  DAL  79   \n",
      "6          Xavier Silas     74159         USA               62   30  BOS   2   \n",
      "7   Xavier Rathan-Mayes     46080      Canada               62   23  MEM   5   \n",
      "8       Wilson Chandler  12016854         USA               23   30  DEN  70   \n",
      "9     Willy Hernangomez   1435750       Spain               35   23  TOT  45   \n",
      "10          Willie Reed   1577230         USA               62   27  TOT  42   \n",
      "11  Willie Cauley-Stein   3704160         USA                6   24  SAC  70   \n",
      "12          Will Barton   3533333         USA               40   27  DEN  77   \n",
      "13      Wesley Matthews  17884176         USA               62   31  DAL  63   \n",
      "14       Wesley Johnson   5881260         USA                4   30  LAC  70   \n",
      "\n",
      "      MP   PER  TS%  ...  TOV%  USG%   OWS  DWS    WS  WS/48   OBPM  DBPM  \\\n",
      "0     87  0.60 0.30  ... 18.20 19.50 -0.40 0.10 -0.20  -0.12 -10.60  0.50   \n",
      "1    937 16.80 0.61  ... 19.30 17.20  1.70 1.40  3.10   0.16  -0.60  1.30   \n",
      "2   1508 17.30 0.53  ... 12.50 27.60  0.30 1.10  1.40   0.05  -0.60 -1.30   \n",
      "3    656 14.60 0.50  ...  9.70 29.50 -0.10 0.50  0.40   0.03  -0.70 -2.00   \n",
      "4    979  8.20 0.49  ... 15.60 15.50 -0.40 1.20  0.80   0.04  -3.70  0.90   \n",
      "5   2238 11.50 0.54  ...  9.10 17.00  1.60 1.60  3.10   0.07  -0.40 -0.50   \n",
      "6      7 -4.90 0.00  ...  0.00 19.20 -0.10 0.00  0.00  -0.25 -12.60 -0.70   \n",
      "7    118  0.90 0.32  ... 19.30 21.70 -0.50 0.10 -0.40  -0.17  -8.70 -1.90   \n",
      "8   2200 11.10 0.54  ... 12.00 14.60  2.00 1.00  3.10   0.07  -0.40 -0.60   \n",
      "9    430 20.60 0.59  ... 15.40 21.70  0.80 0.60  1.40   0.16  -0.10  0.60   \n",
      "10   428 19.20 0.67  ... 11.60 16.60  1.00 0.50  1.60   0.17  -0.80  0.00   \n",
      "11  1943 17.10 0.52  ... 11.30 21.60  1.30 2.00  3.30   0.08  -1.60  1.60   \n",
      "12  2530 15.90 0.56  ... 11.80 20.50  3.90 1.70  5.60   0.11   1.40 -0.60   \n",
      "13  2131 11.40 0.54  ... 10.10 17.60  1.00 1.70  2.70   0.06   0.20 -0.10   \n",
      "14  1422  9.80 0.51  ... 12.60 13.00 -0.10 1.80  1.70   0.06  -2.20  2.50   \n",
      "\n",
      "      BPM  VORP  \n",
      "0  -10.10 -0.20  \n",
      "1    0.80  0.70  \n",
      "2   -1.90  0.00  \n",
      "3   -2.60 -0.10  \n",
      "4   -2.90 -0.20  \n",
      "5   -0.90  0.60  \n",
      "6  -13.30  0.00  \n",
      "7  -10.60 -0.30  \n",
      "8   -1.00  0.50  \n",
      "9    0.50  0.30  \n",
      "10  -0.80  0.10  \n",
      "11   0.00  1.00  \n",
      "12   0.80  1.80  \n",
      "13   0.20  1.20  \n",
      "14   0.30  0.80  \n",
      "\n",
      "[15 rows x 28 columns]\n"
     ]
    }
   ],
   "source": [
    "print(salaries.head(15))"
   ]
  },
  {
   "cell_type": "markdown",
   "metadata": {},
   "source": [
    "Vemos los tipos de variables"
   ]
  },
  {
   "cell_type": "code",
   "execution_count": 23,
   "metadata": {},
   "outputs": [
    {
     "name": "stdout",
     "output_type": "stream",
     "text": [
      "Player              object\n",
      "Salary               int64\n",
      "NBA_Country         object\n",
      "NBA_DraftNumber      int64\n",
      "Age                  int64\n",
      "Tm                  object\n",
      "G                    int64\n",
      "MP                   int64\n",
      "PER                float64\n",
      "TS%                float64\n",
      "3PAr               float64\n",
      "FTr                float64\n",
      "ORB%               float64\n",
      "DRB%               float64\n",
      "TRB%               float64\n",
      "AST%               float64\n",
      "STL%               float64\n",
      "BLK%               float64\n",
      "TOV%               float64\n",
      "USG%               float64\n",
      "OWS                float64\n",
      "DWS                float64\n",
      "WS                 float64\n",
      "WS/48              float64\n",
      "OBPM               float64\n",
      "DBPM               float64\n",
      "BPM                float64\n",
      "VORP               float64\n",
      "dtype: object\n"
     ]
    }
   ],
   "source": [
    "print(salaries.dtypes)"
   ]
  },
  {
   "cell_type": "markdown",
   "metadata": {},
   "source": [
    "# Calidad de los datos\n",
    "Veremos si hay datos con valores faltantes o si hay filas repetidas"
   ]
  },
  {
   "cell_type": "code",
   "execution_count": null,
   "metadata": {
    "tags": []
   },
   "outputs": [],
   "source": [
    "print(salaries.isna().sum())\n",
    "print(\"Número de filas repetidas:\", salaries.size-salaries.drop_duplicates().size)"
   ]
  },
  {
   "cell_type": "markdown",
   "metadata": {},
   "source": [
    "# Resumen estadístico\n",
    "Veremos un resumen de estadísticas descriptivas"
   ]
  },
  {
   "cell_type": "code",
   "execution_count": 12,
   "metadata": {
    "tags": []
   },
   "outputs": [
    {
     "name": "stdout",
     "output_type": "stream",
     "text": [
      "            Player NBA_Country   Tm\n",
      "count          485         485  485\n",
      "unique         483          44   31\n",
      "top     Kay Felder         USA  TOT\n",
      "freq             3         374   55\n",
      "           Salary  NBA_DraftNumber    Age      G      MP    PER    TS%   3PAr  \\\n",
      "count      485.00           485.00 485.00 485.00  485.00 485.00 483.00 483.00   \n",
      "mean   6636507.50            29.45  26.26  50.17 1154.14  13.26   0.54   0.34   \n",
      "std    7392601.91            21.13   4.27  24.87  811.36   8.77   0.11   0.23   \n",
      "min      46080.00             1.00  19.00   1.00    1.00 -41.10   0.00   0.00   \n",
      "25%    1471382.00            11.00  23.00  29.00  381.00   9.80   0.51   0.17   \n",
      "50%    3202217.00            25.00  26.00  59.00 1134.00  13.20   0.55   0.35   \n",
      "75%   10000000.00            47.00  29.00  71.00 1819.00  16.50   0.58   0.48   \n",
      "max   34682550.00            62.00  41.00  79.00 2898.00 134.10   1.50   1.00   \n",
      "\n",
      "         FTr   ORB%  ...   TOV%   USG%    OWS    DWS     WS  WS/48   OBPM  \\\n",
      "count 483.00 485.00  ... 483.00 485.00 485.00 485.00 485.00 485.00 485.00   \n",
      "mean    0.26   4.87  ...  13.14  18.90   1.28   1.18   2.46   0.08  -1.27   \n",
      "std     0.29   4.58  ...   6.12   5.94   1.88   1.03   2.67   0.16   5.03   \n",
      "min     0.00   0.00  ...   0.00   0.00  -2.30   0.00  -1.20  -1.06 -36.50   \n",
      "25%     0.15   1.80  ...   9.90  15.00   0.00   0.30   0.30   0.04  -2.70   \n",
      "50%     0.23   3.20  ...  12.50  17.90   0.80   1.00   1.80   0.08  -1.10   \n",
      "75%     0.32   7.00  ...  15.75  22.20   2.00   1.80   3.60   0.12   0.40   \n",
      "max     5.33  35.90  ...  66.70  45.10  11.40   5.60  15.00   2.71  68.70   \n",
      "\n",
      "        DBPM    BPM   VORP  \n",
      "count 485.00 485.00 485.00  \n",
      "mean   -0.49  -1.76   0.60  \n",
      "std     2.39   5.66   1.25  \n",
      "min   -14.30 -49.20  -1.30  \n",
      "25%    -1.70  -3.60  -0.10  \n",
      "50%    -0.40  -1.30   0.10  \n",
      "75%     1.00   0.50   0.90  \n",
      "max     6.80  54.40   8.60  \n",
      "\n",
      "[8 rows x 25 columns]\n"
     ]
    }
   ],
   "source": [
    "print(salaries.select_dtypes(include=\"object\").describe(include=\"all\"))\n",
    "print(salaries.describe())"
   ]
  },
  {
   "cell_type": "markdown",
   "metadata": {},
   "source": [
    "De aquí podemos observar algunas particularidades."
   ]
  },
  {
   "cell_type": "markdown",
   "metadata": {},
   "source": [
    "Observamos que las columnas que son porcentajes tienen una escala de 0 a 100. Sin embargo, la columna TS% tiene una escala de 0 a 1 -con unos datos atípicos-."
   ]
  },
  {
   "cell_type": "code",
   "execution_count": 13,
   "metadata": {
    "tags": []
   },
   "outputs": [
    {
     "name": "stdout",
     "output_type": "stream",
     "text": [
      "         TS%   ORB%   DRB%   TRB%   AST%   STL%   BLK%   TOV%   USG%\n",
      "count 483.00 485.00 485.00 485.00 485.00 485.00 485.00 483.00 485.00\n",
      "mean    0.54   4.87  14.95   9.91  12.95   1.53   1.71  13.14  18.90\n",
      "std     0.11   4.58   6.85   4.96   9.11   0.99   1.68   6.12   5.94\n",
      "min     0.00   0.00   0.00   0.00   0.00   0.00   0.00   0.00   0.00\n",
      "25%     0.51   1.80  10.20   6.20   6.90   1.00   0.60   9.90  15.00\n",
      "50%     0.55   3.20  14.00   8.70   9.90   1.50   1.20  12.50  17.90\n",
      "75%     0.58   7.00  18.80  13.30  17.60   1.90   2.20  15.75  22.20\n",
      "max     1.50  35.90  37.60  26.50  49.40  12.50  13.40  66.70  45.10\n"
     ]
    },
    {
     "name": "stderr",
     "output_type": "stream",
     "text": [
      "C:\\ProgramData\\Anaconda3\\lib\\site-packages\\numpy\\lib\\histograms.py:839: RuntimeWarning: invalid value encountered in greater_equal\n",
      "  keep = (tmp_a >= first_edge)\n",
      "C:\\ProgramData\\Anaconda3\\lib\\site-packages\\numpy\\lib\\histograms.py:840: RuntimeWarning: invalid value encountered in less_equal\n",
      "  keep &= (tmp_a <= last_edge)\n"
     ]
    },
    {
     "data": {
      "text/html": [
       "<div>\n",
       "<style scoped>\n",
       "    .dataframe tbody tr th:only-of-type {\n",
       "        vertical-align: middle;\n",
       "    }\n",
       "\n",
       "    .dataframe tbody tr th {\n",
       "        vertical-align: top;\n",
       "    }\n",
       "\n",
       "    .dataframe thead th {\n",
       "        text-align: right;\n",
       "    }\n",
       "</style>\n",
       "<table border=\"1\" class=\"dataframe\">\n",
       "  <thead>\n",
       "    <tr style=\"text-align: right;\">\n",
       "      <th></th>\n",
       "      <th>Player</th>\n",
       "      <th>Salary</th>\n",
       "      <th>NBA_Country</th>\n",
       "      <th>NBA_DraftNumber</th>\n",
       "      <th>Age</th>\n",
       "      <th>Tm</th>\n",
       "      <th>G</th>\n",
       "      <th>MP</th>\n",
       "      <th>PER</th>\n",
       "      <th>TS%</th>\n",
       "      <th>...</th>\n",
       "      <th>TOV%</th>\n",
       "      <th>USG%</th>\n",
       "      <th>OWS</th>\n",
       "      <th>DWS</th>\n",
       "      <th>WS</th>\n",
       "      <th>WS/48</th>\n",
       "      <th>OBPM</th>\n",
       "      <th>DBPM</th>\n",
       "      <th>BPM</th>\n",
       "      <th>VORP</th>\n",
       "    </tr>\n",
       "  </thead>\n",
       "  <tbody>\n",
       "    <tr>\n",
       "      <th>142</th>\n",
       "      <td>Naz Mitrou-Long</td>\n",
       "      <td>92160</td>\n",
       "      <td>Canada</td>\n",
       "      <td>62</td>\n",
       "      <td>24</td>\n",
       "      <td>UTA</td>\n",
       "      <td>1</td>\n",
       "      <td>1</td>\n",
       "      <td>134.10</td>\n",
       "      <td>1.50</td>\n",
       "      <td>...</td>\n",
       "      <td>0.00</td>\n",
       "      <td>45.10</td>\n",
       "      <td>0.10</td>\n",
       "      <td>0.00</td>\n",
       "      <td>0.10</td>\n",
       "      <td>2.71</td>\n",
       "      <td>68.70</td>\n",
       "      <td>-14.30</td>\n",
       "      <td>54.40</td>\n",
       "      <td>0.00</td>\n",
       "    </tr>\n",
       "  </tbody>\n",
       "</table>\n",
       "<p>1 rows × 28 columns</p>\n",
       "</div>"
      ],
      "text/plain": [
       "              Player  Salary NBA_Country  NBA_DraftNumber  Age   Tm  G  MP  \\\n",
       "142  Naz Mitrou-Long   92160      Canada               62   24  UTA  1   1   \n",
       "\n",
       "       PER  TS%  ...  TOV%  USG%  OWS  DWS   WS  WS/48  OBPM   DBPM   BPM  \\\n",
       "142 134.10 1.50  ...  0.00 45.10 0.10 0.00 0.10   2.71 68.70 -14.30 54.40   \n",
       "\n",
       "     VORP  \n",
       "142  0.00  \n",
       "\n",
       "[1 rows x 28 columns]"
      ]
     },
     "execution_count": 13,
     "metadata": {},
     "output_type": "execute_result"
    },
    {
     "data": {
      "image/png": "[encoded data removed]",
      "text/plain": [
       "<Figure size 432x288 with 1 Axes>"
      ]
     },
     "metadata": {
      "needs_background": "light"
     },
     "output_type": "display_data"
    }
   ],
   "source": [
    "salaries.sort_values(by=[\"PER\"], ascending=False)\n",
    "perc = list(filter(lambda x: x.endswith(\"%\"), salaries.keys()))\n",
    "print(salaries[perc].describe())\n",
    "plt.hist(salaries[perc[0]])\n",
    "salaries[salaries[\"TS%\"]==1.5]\n"
   ]
  },
  {
   "cell_type": "markdown",
   "metadata": {},
   "source": [
    "Además, podemos ver que hay 485 filas. Pero hay 483 jugadores distintos. Hay un jugador que aparece en 3 equipos distintos."
   ]
  },
  {
   "cell_type": "code",
   "execution_count": 14,
   "metadata": {},
   "outputs": [
    {
     "data": {
      "text/html": [
       "<div>\n",
       "<style scoped>\n",
       "    .dataframe tbody tr th:only-of-type {\n",
       "        vertical-align: middle;\n",
       "    }\n",
       "\n",
       "    .dataframe tbody tr th {\n",
       "        vertical-align: top;\n",
       "    }\n",
       "\n",
       "    .dataframe thead th {\n",
       "        text-align: right;\n",
       "    }\n",
       "</style>\n",
       "<table border=\"1\" class=\"dataframe\">\n",
       "  <thead>\n",
       "    <tr style=\"text-align: right;\">\n",
       "      <th></th>\n",
       "      <th>Player</th>\n",
       "      <th>Salary</th>\n",
       "      <th>NBA_Country</th>\n",
       "      <th>NBA_DraftNumber</th>\n",
       "      <th>Age</th>\n",
       "      <th>Tm</th>\n",
       "      <th>G</th>\n",
       "      <th>MP</th>\n",
       "      <th>PER</th>\n",
       "      <th>TS%</th>\n",
       "      <th>...</th>\n",
       "      <th>TOV%</th>\n",
       "      <th>USG%</th>\n",
       "      <th>OWS</th>\n",
       "      <th>DWS</th>\n",
       "      <th>WS</th>\n",
       "      <th>WS/48</th>\n",
       "      <th>OBPM</th>\n",
       "      <th>DBPM</th>\n",
       "      <th>BPM</th>\n",
       "      <th>VORP</th>\n",
       "    </tr>\n",
       "  </thead>\n",
       "  <tbody>\n",
       "    <tr>\n",
       "      <th>224</th>\n",
       "      <td>Kay Felder</td>\n",
       "      <td>1312611</td>\n",
       "      <td>USA</td>\n",
       "      <td>54</td>\n",
       "      <td>22</td>\n",
       "      <td>DET</td>\n",
       "      <td>1</td>\n",
       "      <td>3</td>\n",
       "      <td>-31.60</td>\n",
       "      <td>0.00</td>\n",
       "      <td>...</td>\n",
       "      <td>33.30</td>\n",
       "      <td>44.20</td>\n",
       "      <td>-0.10</td>\n",
       "      <td>0.00</td>\n",
       "      <td>-0.10</td>\n",
       "      <td>-1.00</td>\n",
       "      <td>-29.50</td>\n",
       "      <td>-11.90</td>\n",
       "      <td>-41.40</td>\n",
       "      <td>0.00</td>\n",
       "    </tr>\n",
       "    <tr>\n",
       "      <th>225</th>\n",
       "      <td>Kay Felder</td>\n",
       "      <td>1312611</td>\n",
       "      <td>USA</td>\n",
       "      <td>54</td>\n",
       "      <td>22</td>\n",
       "      <td>CHI</td>\n",
       "      <td>14</td>\n",
       "      <td>134</td>\n",
       "      <td>3.60</td>\n",
       "      <td>0.39</td>\n",
       "      <td>...</td>\n",
       "      <td>17.40</td>\n",
       "      <td>28.00</td>\n",
       "      <td>-0.50</td>\n",
       "      <td>0.10</td>\n",
       "      <td>-0.50</td>\n",
       "      <td>-0.17</td>\n",
       "      <td>-8.20</td>\n",
       "      <td>-3.30</td>\n",
       "      <td>-11.50</td>\n",
       "      <td>-0.30</td>\n",
       "    </tr>\n",
       "    <tr>\n",
       "      <th>226</th>\n",
       "      <td>Kay Felder</td>\n",
       "      <td>1312611</td>\n",
       "      <td>USA</td>\n",
       "      <td>54</td>\n",
       "      <td>22</td>\n",
       "      <td>TOT</td>\n",
       "      <td>15</td>\n",
       "      <td>137</td>\n",
       "      <td>2.90</td>\n",
       "      <td>0.38</td>\n",
       "      <td>...</td>\n",
       "      <td>17.90</td>\n",
       "      <td>28.40</td>\n",
       "      <td>-0.60</td>\n",
       "      <td>0.10</td>\n",
       "      <td>-0.50</td>\n",
       "      <td>-0.18</td>\n",
       "      <td>-8.70</td>\n",
       "      <td>-3.50</td>\n",
       "      <td>-12.10</td>\n",
       "      <td>-0.30</td>\n",
       "    </tr>\n",
       "  </tbody>\n",
       "</table>\n",
       "<p>3 rows × 28 columns</p>\n",
       "</div>"
      ],
      "text/plain": [
       "         Player   Salary NBA_Country  NBA_DraftNumber  Age   Tm   G   MP  \\\n",
       "224  Kay Felder  1312611         USA               54   22  DET   1    3   \n",
       "225  Kay Felder  1312611         USA               54   22  CHI  14  134   \n",
       "226  Kay Felder  1312611         USA               54   22  TOT  15  137   \n",
       "\n",
       "       PER  TS%  ...  TOV%  USG%   OWS  DWS    WS  WS/48   OBPM   DBPM    BPM  \\\n",
       "224 -31.60 0.00  ... 33.30 44.20 -0.10 0.00 -0.10  -1.00 -29.50 -11.90 -41.40   \n",
       "225   3.60 0.39  ... 17.40 28.00 -0.50 0.10 -0.50  -0.17  -8.20  -3.30 -11.50   \n",
       "226   2.90 0.38  ... 17.90 28.40 -0.60 0.10 -0.50  -0.18  -8.70  -3.50 -12.10   \n",
       "\n",
       "     VORP  \n",
       "224  0.00  \n",
       "225 -0.30  \n",
       "226 -0.30  \n",
       "\n",
       "[3 rows x 28 columns]"
      ]
     },
     "execution_count": 14,
     "metadata": {},
     "output_type": "execute_result"
    }
   ],
   "source": [
    "salaries[salaries[\"Player\"]==\"Kay Felder\"]"
   ]
  },
  {
   "cell_type": "markdown",
   "metadata": {},
   "source": [
    "## Correlación de variables\n",
    "Para identificar la correlación entre las variables del Dataframe se realiza una matriz de correlación. Sin embargo, es de principal interés la variable de salario. Por lo anterior, se extrae únicamente la correlación entre salario y las demás variables, como se muestra a continuación."
   ]
  },
  {
   "cell_type": "code",
   "execution_count": 15,
   "metadata": {},
   "outputs": [
    {
     "data": {
      "text/plain": [
       "Salary             1.00\n",
       "WS                 0.59\n",
       "VORP               0.57\n",
       "OWS                0.56\n",
       "MP                 0.51\n",
       "DWS                0.51\n",
       "Age                0.34\n",
       "BPM                0.31\n",
       "USG%               0.30\n",
       "G                  0.30\n",
       "PER                0.27\n",
       "AST%               0.27\n",
       "OBPM               0.27\n",
       "DRB%               0.20\n",
       "DBPM               0.18\n",
       "TS%                0.17\n",
       "WS/48              0.16\n",
       "TRB%               0.14\n",
       "BLK%               0.05\n",
       "STL%               0.04\n",
       "FTr                0.02\n",
       "ORB%               0.00\n",
       "TOV%              -0.04\n",
       "3PAr              -0.07\n",
       "NBA_DraftNumber   -0.38\n",
       "Name: Salary, dtype: float64"
      ]
     },
     "execution_count": 15,
     "metadata": {},
     "output_type": "execute_result"
    }
   ],
   "source": [
    "salaries.corr()['Salary'].sort_values(ascending=False)"
   ]
  },
  {
   "cell_type": "markdown",
   "metadata": {},
   "source": [
    "El indicador que utiliza para el cálculo de la correlación es el coeficiente de Pearson, que indica la asociación **lineal** entre dos variables. Para la intuición de la relación entre las variables, usando una matriz de correlación, es necesario tener presente las siguientes consideraciones:\n",
    "\n",
    "* Los valores pueden estar entre -1 y +1\n",
    "* Un valor igual a 0 indica que no existe una relación lineal entre las dos variables, aunque no necesariamente son independientes.\n",
    "* Un valor mayor a 0 indica una correlación lineal positiva, es decir, las variables son directamente proporcionales.\n",
    "* Un valor menor a 0 indica una correlación lineal negativa, es decir, las variables son inversamente proporcionales.\n",
    "\n",
    "Además, se dice con frecuencia que dos variables están altamente correlacionadas si su coeficiente es mayor o igual que 0.7. Sin embargo, el valor de referencia también depende del área de estudio y la cantidad de elementos en el análisis."
   ]
  },
  {
   "cell_type": "markdown",
   "metadata": {},
   "source": [
    "## Gráfica de correlación\n",
    "A continuación, una gráfica de la matriz de correlación:"
   ]
  },
  {
   "cell_type": "code",
   "execution_count": 16,
   "metadata": {},
   "outputs": [
    {
     "data": {
      "image/png": "[encoded data removed]",
      "text/plain": [
       "<Figure size 432x288 with 2 Axes>"
      ]
     },
     "metadata": {
      "needs_background": "light"
     },
     "output_type": "display_data"
    }
   ],
   "source": [
    "salary_correlation = salaries.corr()\n",
    "ax = sb.heatmap(\n",
    "    salary_correlation, \n",
    "    linewidth=2,\n",
    "    vmin=-1, vmax=1, center=0,\n",
    "    cmap=sb.diverging_palette(20, 220, n=200),\n",
    "    square=True\n",
    ")\n",
    "ax.set_xticklabels(\n",
    "    ax.get_xticklabels(),\n",
    "    rotation=90,\n",
    "    horizontalalignment='right'\n",
    ")\n",
    "plt.show()"
   ]
  },
  {
   "cell_type": "markdown",
   "metadata": {},
   "source": [
    "## Analisis de la correlación\n",
    "De las condiciones del coeficiente de Pearson, inicialmente explicadas, y la gráfica de la matriz se pueden extraer las variables correlacionadas con el salario. Se muestran a continuación las variables escogidas:"
   ]
  },
  {
   "cell_type": "code",
   "execution_count": 17,
   "metadata": {},
   "outputs": [
    {
     "data": {
      "text/plain": [
       "Salary             1.00\n",
       "NBA_DraftNumber   -0.38\n",
       "MP                 0.51\n",
       "OWS                0.56\n",
       "DWS                0.51\n",
       "WS                 0.59\n",
       "VORP               0.57\n",
       "Name: Salary, dtype: float64"
      ]
     },
     "execution_count": 17,
     "metadata": {},
     "output_type": "execute_result"
    }
   ],
   "source": [
    "salary_correlation = salary_correlation[(salary_correlation['Salary'] > 0.5) | (salary_correlation['Salary'] < -0.30)]\n",
    "salary_correlation = salary_correlation['Salary']\n",
    "salary_correlation"
   ]
  },
  {
   "cell_type": "markdown",
   "metadata": {},
   "source": [
    "Para las variables positivamente correlacionadas fueron escogidas solamente aquellas que excedieran +0.5. En cuanto a las variables negativas, teniendo en cuenta que solo habían tres y sus valores eran más cercanos al 0 que al -1, se escogió la menor."
   ]
  },
  {
   "cell_type": "markdown",
   "metadata": {},
   "source": [
    "Acabamos de ver las variables independientes más correlacionadas con la variable dependientes. Ahora veremos las variables independientes más correlacionadas entre ellas:"
   ]
  },
  {
   "cell_type": "code",
   "execution_count": 18,
   "metadata": {
    "tags": []
   },
   "outputs": [
    {
     "name": "stdout",
     "output_type": "stream",
     "text": [
      "    start   end  corr\n",
      "0      WS   OWS  0.96\n",
      "1   WS/48   PER  0.93\n",
      "2   WS/48  OBPM  0.93\n",
      "3     PER  OBPM  0.91\n",
      "4    TRB%  DRB%  0.91\n",
      "5    OBPM   BPM  0.91\n",
      "6      WS  VORP  0.91\n",
      "7      MP     G  0.87\n",
      "8   WS/48   BPM  0.87\n",
      "9    VORP   OWS  0.87\n",
      "10    PER   BPM  0.86\n",
      "11     WS   DWS  0.84\n",
      "12     MP   DWS  0.82\n",
      "13   TRB%  ORB%  0.80\n",
      "14    TS%  OBPM  0.79\n",
      "15     WS    MP  0.78\n",
      "16  WS/48   TS%  0.78\n",
      "17    TS%   PER  0.78\n",
      "18   VORP   DWS  0.75\n",
      "19    TS%   BPM  0.74\n",
      "20      G   DWS  0.71\n",
      "21    OWS    MP  0.66\n",
      "22    OWS   DWS  0.65\n",
      "23     WS     G  0.63\n",
      "24   VORP    MP  0.61\n",
      "25   ORB%  3PAr -0.58\n",
      "26   TRB%  BLK%  0.57\n",
      "27   TRB%  3PAr -0.55\n",
      "28     WS   BPM  0.53\n",
      "29    DWS  DBPM  0.52\n"
     ]
    }
   ],
   "source": [
    "indep_corr = salaries[salaries.columns.drop(\"Salary\")].corr()\n",
    "arr = pd.DataFrame(columns=[\"start\", \"end\", \"corr\"])\n",
    "for i in range(indep_corr.columns.size):\n",
    "    for j in range(indep_corr.columns.size):\n",
    "        df = pd.DataFrame({\"start\": [indep_corr.columns[i]],\n",
    "                    \"end\": [indep_corr.columns[j]],\n",
    "                    \"corr\": [indep_corr.iloc[i, j]]})\n",
    "        arr = arr.append(df)\n",
    "        \n",
    "arr = arr[arr[\"start\"]>arr[\"end\"]]\n",
    "arr[\"abs\"]=abs(arr[\"corr\"])\n",
    "arr = arr.sort_values(by=[\"abs\"], ascending=False)[[\"start\", \"end\", \"corr\"]]\n",
    "#arr = arr.set_index([\"start\", \"end\"])\n",
    "arr.index = range(arr.index.size)\n",
    "print(arr.head(30))"
   ]
  }
 ],
 "metadata": {
  "kernelspec": {
   "display_name": "Python 3",
   "language": "python",
   "name": "python3"
  },
  "language_info": {
   "codemirror_mode": {
    "name": "ipython",
    "version": 3
   },
   "file_extension": ".py",
   "mimetype": "text/x-python",
   "name": "python",
   "nbconvert_exporter": "python",
   "pygments_lexer": "ipython3",
   "version": "3.8.3"
  }
 },
 "nbformat": 4,
 "nbformat_minor": 2
}
